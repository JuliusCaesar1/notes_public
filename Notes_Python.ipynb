{
  "nbformat": 4,
  "nbformat_minor": 0,
  "metadata": {
    "colab": {
      "provenance": [],
      "authorship_tag": "ABX9TyObtZgJG1WU2vw9m4fnw7A2",
      "include_colab_link": true
    },
    "kernelspec": {
      "name": "python3",
      "display_name": "Python 3"
    },
    "language_info": {
      "name": "python"
    }
  },
  "cells": [
    {
      "cell_type": "markdown",
      "metadata": {
        "id": "view-in-github",
        "colab_type": "text"
      },
      "source": [
        "<a href=\"https://colab.research.google.com/github/JuliusCaesar1/notes_public/blob/main/Notes_Python.ipynb\" target=\"_parent\"><img src=\"https://colab.research.google.com/assets/colab-badge.svg\" alt=\"Open In Colab\"/></a>"
      ]
    },
    {
      "cell_type": "code",
      "execution_count": null,
      "metadata": {
        "colab": {
          "base_uri": "https://localhost:8080/"
        },
        "id": "5-EnSEpZsV23",
        "outputId": "3e0be2b8-0f0c-4061-d511-807798b7ec0f"
      },
      "outputs": [
        {
          "output_type": "stream",
          "name": "stdout",
          "text": [
            "I am  39 years old.\n"
          ]
        }
      ],
      "source": [
        "age = 39\n",
        "print ('I am ', age,'years old.')"
      ]
    },
    {
      "cell_type": "code",
      "source": [
        "def is_positive(number):\n",
        "  if number > 0:\n",
        "    return True\n",
        "  else:\n",
        "    return False"
      ],
      "metadata": {
        "id": "Xwq4HMUJH5i7"
      },
      "execution_count": null,
      "outputs": []
    },
    {
      "cell_type": "code",
      "source": [
        "def greeting(name, department):\n",
        "    print(\"Welcome, \" + name)\n",
        "    print(\"You are part of \" + department)\n",
        "\n",
        "greeting(\"Blake\", \"Software engineering\")\n",
        "greeting(\"Ellis\", \"Software engineering\")"
      ],
      "metadata": {
        "colab": {
          "base_uri": "https://localhost:8080/"
        },
        "id": "MeYFMFQSuysl",
        "outputId": "5d05404e-fb2c-49a8-f172-74cb5f37658c"
      },
      "execution_count": null,
      "outputs": [
        {
          "output_type": "stream",
          "name": "stdout",
          "text": [
            "Welcome, Blake\n",
            "You are part of Software engineering\n",
            "Welcome, Ellis\n",
            "You are part of Software engineering\n"
          ]
        }
      ]
    },
    {
      "cell_type": "code",
      "source": [
        "def greeting(name):\n",
        "    print(\"Welcome, \" + name)\n",
        "\n",
        "greeting(\"Kay\")\n",
        "greeting(\"Cameron\")\n",
        "#to def is to say this function which follows is named \"greeting\" within this\n",
        "#context, it is basically greeting(name), as in the name is what the function\n",
        "#requires to plug into its following body. The greeting function, with a given\n",
        "#name can then be recalled as many times as needed."
      ],
      "metadata": {
        "colab": {
          "base_uri": "https://localhost:8080/"
        },
        "id": "YPx2-30GvXNP",
        "outputId": "4297fc94-711a-4c14-d397-80b2b3e9efda"
      },
      "execution_count": null,
      "outputs": [
        {
          "output_type": "stream",
          "name": "stdout",
          "text": [
            "Welcome, Kay\n",
            "Welcome, Cameron\n"
          ]
        }
      ]
    },
    {
      "cell_type": "code",
      "source": [
        "month = \"September\"\n",
        "failed_attempts = 100\n",
        "print(\"Investigate failed login attempts during\", month, \"if more than\", failed_attempts)\n",
        "#here we are saying month is the string september, and then telling the code\n",
        "#to plug it into the print statement. This allows us to change the month and\n",
        "#the number of failed attempts accordingly from a function if needed and\n",
        "#created."
      ],
      "metadata": {
        "colab": {
          "base_uri": "https://localhost:8080/"
        },
        "id": "4lGr0OzqwUMw",
        "outputId": "ed97a95d-ca49-4e08-b1bc-ed008f3f25db"
      },
      "execution_count": null,
      "outputs": [
        {
          "output_type": "stream",
          "name": "stdout",
          "text": [
            "Investigate failed login attempts during September if more than 100\n"
          ]
        }
      ]
    },
    {
      "cell_type": "code",
      "source": [
        "print(type(\"This is a string\"))\n",
        "#tells us what type of argument"
      ],
      "metadata": {
        "colab": {
          "base_uri": "https://localhost:8080/"
        },
        "id": "LnyojBBuxHqz",
        "outputId": "bf8f80ab-abdd-436a-e525-6e5ba1a385f4"
      },
      "execution_count": null,
      "outputs": [
        {
          "output_type": "stream",
          "name": "stdout",
          "text": [
            "<class 'str'>\n"
          ]
        }
      ]
    },
    {
      "cell_type": "code",
      "source": [
        "number = 12\n",
        "string_representation = str(number)\n",
        "print(string_representation)\n",
        "#turning an int into str"
      ],
      "metadata": {
        "colab": {
          "base_uri": "https://localhost:8080/"
        },
        "id": "-7xzQ1vExfVk",
        "outputId": "c00d5c82-fc06-4b30-eac9-8db2fb119b45"
      },
      "execution_count": null,
      "outputs": [
        {
          "output_type": "stream",
          "name": "stdout",
          "text": [
            "12\n"
          ]
        }
      ]
    },
    {
      "cell_type": "code",
      "source": [
        "time_list = [12, 2, 32, 19, 57, 22, 14]\n",
        "print(sorted(time_list))\n",
        "print(time_list)\n",
        "#sorts the list leas to greatest, but doesn't change inherent order"
      ],
      "metadata": {
        "id": "rLDefFEnycoF"
      },
      "execution_count": null,
      "outputs": []
    },
    {
      "cell_type": "code",
      "source": [
        "time_list = [12, 2, 32, 19, 57, 22, 14]\n",
        "print(min(time_list))\n",
        "print(max(time_list))\n",
        "#self explanatory"
      ],
      "metadata": {
        "id": "RWIuKINgyjeS"
      },
      "execution_count": null,
      "outputs": []
    },
    {
      "cell_type": "code",
      "source": [
        "def greeting(name):\n",
        "    print(\"Welcome, \" + name)\n",
        "result = greeting(\"Christine\")\n",
        "print(result)\n",
        "#simple greeting"
      ],
      "metadata": {
        "id": "Bt2M350NyqS7"
      },
      "execution_count": null,
      "outputs": []
    },
    {
      "cell_type": "code",
      "source": [
        "def convert_seconds(seconds):\n",
        "    hours = seconds // 3600\n",
        "    minutes = (seconds - hours * 3600) // 60\n",
        "    remaining_seconds = seconds - hours * 3600 - minutes * 60\n",
        "    return hours, minutes, remaining_seconds\n",
        "\n",
        "hours, minutes, seconds = convert_seconds(15000)\n",
        "print(hours, minutes, seconds)"
      ],
      "metadata": {
        "colab": {
          "base_uri": "https://localhost:8080/"
        },
        "id": "GDxk029nzHO0",
        "outputId": "862bc497-b4f5-4a1c-e4fb-ea9983d73e97"
      },
      "execution_count": null,
      "outputs": [
        {
          "output_type": "stream",
          "name": "stdout",
          "text": [
            "4 10 0\n"
          ]
        }
      ]
    },
    {
      "cell_type": "code",
      "source": [
        "def area_triangle(base, height):\n",
        "    return base*height/2\n",
        "area_a = area_triangle(5,4)\n",
        "area_b = area_triangle(7,3)\n",
        "sum = area_a + area_b\n",
        "print(\"The sum of both areas is: \" + str(sum))\n",
        "#area of a triangle"
      ],
      "metadata": {
        "id": "EKq7y8AMzrBK"
      },
      "execution_count": null,
      "outputs": []
    },
    {
      "cell_type": "code",
      "source": [
        "name = \"Kay\"\n",
        "number = len(name) * 9\n",
        "\n",
        "print(\"Hello \" + name + \". Your lucky number is \" + str(number))\n",
        "\n",
        "name = \"Cameron\"\n",
        "number = len(name) * 9\n",
        "\n",
        "print(\"Hello \" + name + \". Your lucky number is \" + str(number))\n",
        "#this is long and repetitive"
      ],
      "metadata": {
        "id": "OMjergyGz1l1"
      },
      "execution_count": null,
      "outputs": []
    },
    {
      "cell_type": "code",
      "source": [
        "def lucky_number(name):\n",
        "    number = len(name) * 9\n",
        "    print(\"Hello \" + name + \". Your lucky number is \" + str(number))\n",
        "\n",
        "lucky_number(\"Kay\")\n",
        "lucky_number(\"Cameron\")\n",
        "#this is more compact, by creating a function the computer plugs the input in\n",
        "#and the function can be recalled with its defined name lucky_number"
      ],
      "metadata": {
        "id": "uYaalpN6z5bJ"
      },
      "execution_count": null,
      "outputs": []
    },
    {
      "cell_type": "code",
      "source": [
        "def circle_area(radius):\n",
        "    pi = 3.14\n",
        "    area = pi * (radius ** 2)\n",
        "    print(area)\n",
        "\n",
        "circle_area(5)\n",
        "#Output is 78.5\n",
        "#clean code"
      ],
      "metadata": {
        "id": "CQ0-jOK10Lz-"
      },
      "execution_count": null,
      "outputs": []
    },
    {
      "cell_type": "code",
      "source": [
        "# This function calculates the number of days in a variable number of\n",
        "# years, months, and days. These variables are provided by the user and\n",
        "# are passed to the function through the function’s parameters.\n",
        "def find_total_days(years, months, days):\n",
        "# Assign a variable to hold the calculations for the number of days in\n",
        "# a year (years*365) plus the number of days in a month (months*30) plus\n",
        "# the number of days provided through the \"days\" parameter variable.\n",
        "    my_days = (years*365) + (months*30) + days\n",
        "# Use the \"return\" keyword to send the result of the \"my_days\"\n",
        "# calculation to the function call.\n",
        "    return my_days\n",
        "\n",
        "# Function call with user provided parameter values.\n",
        "print(find_total_days(2,5,23))"
      ],
      "metadata": {
        "id": "RSlMjB2D1G8D"
      },
      "execution_count": null,
      "outputs": []
    },
    {
      "cell_type": "code",
      "source": [
        "# This function converts fluid ounces to milliliters and returns the\n",
        "# result of the conversion.\n",
        "def convert_volume(fluid_ounce):\n",
        "# Calculate value of the \"ml\" variable using the parameter variable\n",
        "# \"fluid_ounce\". There are approximately 29.5 milliliters in 1 fluid\n",
        "# ounce.\n",
        "    ml = fluid_ounce * 29.5\n",
        "# Return the result of the calculation.\n",
        "    return ml\n",
        "\n",
        "# Call the conversion from within the print() function using 2 fluid\n",
        "# ounces. Convert the return value from a float to a string.\n",
        "print(\"The volume in milliliters is \" + str(convert_volume(2)))\n",
        "\n",
        "# Call the function again and double the 2 fluid ounces from within\n",
        "# the print function.\n",
        "print(\"The volume in milliliters is \" + str(convert_volume(2)*2))\n",
        "# Alternative calculation:\n",
        "# print(\"The volume in milliliters is \" + str(convert_volume(4))\n"
      ],
      "metadata": {
        "id": "5Lcotu9N1PNd"
      },
      "execution_count": null,
      "outputs": []
    },
    {
      "cell_type": "code",
      "source": [
        "print ('c' > 'b' and 'n' < 'o')\n",
        "#it is sorting alphabetically in ascending numbers a being low and\n",
        "#with z being the greatest."
      ],
      "metadata": {
        "colab": {
          "base_uri": "https://localhost:8080/"
        },
        "id": "wYwBTq6X3XyA",
        "outputId": "a17dd2d1-d353-45f9-854b-37933c7dcb63"
      },
      "execution_count": null,
      "outputs": [
        {
          "output_type": "stream",
          "name": "stdout",
          "text": [
            "True\n"
          ]
        }
      ]
    },
    {
      "cell_type": "code",
      "source": [],
      "metadata": {
        "id": "OSGK4Q7Y4MSo"
      },
      "execution_count": null,
      "outputs": []
    },
    {
      "cell_type": "markdown",
      "source": [
        "Comparison Operators with Equations\n",
        "The following examples demonstrate how to use comparison operators with the data types int (integers, whole numbers) and float (number with a decimal point or fractional value). Comparison operators return Boolean results. As you learned previously, Boolean is a data type that can hold only one of two values: True or False.  \n",
        "\n",
        "The comparison operators include:\n",
        "\n",
        "==    (equality)\n",
        "\n",
        "!=     (not equal to)\n",
        "\n",
        ">       (greater than)\n",
        "\n",
        "<      (less than)\n",
        "\n",
        ">=    (greater than or equal to)\n",
        "\n",
        "<=    (less than or equal to)\n",
        "\n",
        "\n",
        "PART 1: Equality == and Not Equal To != Operators\n",
        "In Python, you can use comparison operators to compare values. When a comparison is made, Python returns a Boolean result: True or False. Note that Boolean data types are not string data types (Boolean True is not equal to the string \"True\").  \n",
        "\n",
        "To check if two values are the same, use the equality operator: ==\n",
        "\n",
        "To check if two values are not the same, use the not equal to operator: !=\n",
        "\n",
        "The print() function can be used to display the results of the comparisons."
      ],
      "metadata": {
        "id": "hGN6nMZe5Jdk"
      }
    },
    {
      "cell_type": "code",
      "source": [
        "\n",
        "print(32 == 30+2)   # The == operator checks if the 2 values are\n",
        "True                # equal to each other. If they are equal,\n",
        "                    # Python returns a True result.\n",
        "\n",
        "\n",
        "print(5+10 == 6+7)  # If the two values are not equal, as in the\n",
        "False               # expression 5+10 == 6+7 (or 15 == 13), Python\n",
        "                    # returns a False result.\n",
        "\n",
        "\n",
        "print(10-4 != 10+4) # The != operator checks if the 2 values are\n",
        "True                # NOT equal to each other. If true, Python\n",
        "                    # returns a True result.\n",
        "\n",
        "\n",
        "print(9/3 != 3*1)   # In this last example, 9/3 != 3*1 (or 3 != 3)\n",
        "False               # is false. So, Python returns a False value."
      ],
      "metadata": {
        "id": "BTz7_VuY5azX"
      },
      "execution_count": null,
      "outputs": []
    },
    {
      "cell_type": "code",
      "source": [
        "\n",
        "# The = equals assignment operator is used to assign a value to a\n",
        "# variable.\n",
        "\n",
        "my_variable = 3*5           # Assigns a value to my_variable\n",
        "print(my_variable)          # Printing the variable returns the\n",
        "15                          # value assigned to the variable.\n",
        "\n",
        "\n",
        "\n",
        "# The == equality comparison operator checks if the values of the two\n",
        "# expressions on either side of the == operator are equivalent to one\n",
        "# another.\n",
        "\n",
        "print(my_variable == 3*5)   # Printing the variable returns a Boolean\n",
        "True                        # True or False result."
      ],
      "metadata": {
        "colab": {
          "base_uri": "https://localhost:8080/"
        },
        "id": "DxktSmy-5jWh",
        "outputId": "10aecc5e-09b2-4a2e-952b-8bb25a16a753"
      },
      "execution_count": null,
      "outputs": [
        {
          "output_type": "stream",
          "name": "stdout",
          "text": [
            "15\n",
            "True\n"
          ]
        },
        {
          "output_type": "execute_result",
          "data": {
            "text/plain": [
              "True"
            ]
          },
          "metadata": {},
          "execution_count": 34
        }
      ]
    },
    {
      "cell_type": "code",
      "source": [
        "\n",
        "print(11 > 3*3)         # The > operator checks if the left value is\n",
        "True                    # greater than the right value. If true, it\n",
        "                        # returns a True result.\n",
        "\n",
        "\n",
        "print(4/2 > 8-4)        # If the > operator finds that the left value\n",
        "False                   # is NOT greater than the right value, the\n",
        "                        # comparison will return a False result.\n",
        "\n",
        "\n",
        "print(4/2 < 8-4)        # The < operator checks  if the left value is\n",
        "True                    # less than the right side. If true, the\n",
        "                        # comparison returns a True result.\n",
        "\n",
        "\n",
        "print(11 < 3*3)         # If the < operator finds that the left side is False\n",
        "                        # NOT less than the right value, Python returns\n",
        "False                   # a False result."
      ],
      "metadata": {
        "id": "RgVI1MMC5yGx"
      },
      "execution_count": null,
      "outputs": []
    },
    {
      "cell_type": "code",
      "source": [
        "\n",
        "print(12*2 >= 24)   # The >= operator checks if the left value is\n",
        "True                # greater than or equal to the right value.\n",
        "                    # If one of these conditions is true,\n",
        "                    # Python returns a True result. In this case\n",
        "                    # the two values are equal. So, the comparison\n",
        "                    # returns a True result.\n",
        "\n",
        "\n",
        "print(18/2 >= 15)   # If the >= comparison determines that the left\n",
        "False               # value is NOT greater than or equal to the\n",
        "                    # right, it returns a False result.\n",
        "\n",
        "print(12*2 <= 30)   # The <= operator checks if the left value is\n",
        "True                # less than or equal to the right value. In\n",
        "                    # this case, the left value is less than the\n",
        "                    # right value. Again, if one of the two\n",
        "                    # conditions is true, Python returns a True\n",
        "                    # result.\n",
        "\n",
        "\n",
        "print(15 <= 18/2)   # If the <= comparison determines that the left\n",
        "False               # value is NOT less than or equal to the right\n",
        "                    # value, the comparison returns a False result."
      ],
      "metadata": {
        "id": "6QJNb25L53Lo"
      },
      "execution_count": null,
      "outputs": []
    },
    {
      "cell_type": "code",
      "source": [
        "# Some random values\n",
        "valueA = 3\n",
        "valueB = 144\n",
        "valueC = -987\n",
        "valueD = 25\n",
        "valueE = -0.25\n",
        "\n",
        "# Calculate the exponent for the variables\n",
        "aExp = valueA ** 2\n",
        "bExp = valueB ** 3\n",
        "cExp = valueC ** 4\n",
        "dExp = valueD ** -5\n",
        "eExp = valueE ** 0.125\n",
        "\n",
        "# Output the results\n",
        "print(valueA, \"^2 = \", aExp, sep=\"\")\n",
        "print(valueB, \"^3 = \", bExp, sep=\"\")\n",
        "print(valueC, \"^4 = \", cExp, sep=\"\")\n",
        "print(valueD, \"^-5 = \", dExp, sep=\"\")\n",
        "print(valueE, \"^0.125 = \", eExp, sep=\"\")"
      ],
      "metadata": {
        "colab": {
          "base_uri": "https://localhost:8080/"
        },
        "id": "EB1G4tFe6YLx",
        "outputId": "7d03763a-46d6-43cb-e8ae-95cec63b9382"
      },
      "execution_count": null,
      "outputs": [
        {
          "output_type": "stream",
          "name": "stdout",
          "text": [
            "3^2 = 9\n",
            "144^3 = 2985984\n",
            "-987^4 = 949005240561\n",
            "25^-5 = 1.024e-07\n",
            "-0.25^0.125 = (0.7768869870150186+0.3217971264527913j)\n"
          ]
        }
      ]
    },
    {
      "cell_type": "code",
      "source": [
        "# Some random values\n",
        "valueA = 3\n",
        "valueB = 144\n",
        "valueC = -987\n",
        "valueD = 25\n",
        "valueE = -0.25\n",
        "\n",
        "# Raise the variables to different powers\n",
        "aExp = pow(valueA, 2)\n",
        "bExp = pow(valueB, 3)\n",
        "cExp = pow(valueC, 4)\n",
        "dExp = pow(valueD, -5)\n",
        "eExp = pow(valueE, 0.125)\n",
        "\n",
        "# Output results\n",
        "print(valueA, \"^2 = \", aExp, sep=\"\")\n",
        "print(valueB, \"^3 = \", bExp, sep=\"\")\n",
        "print(valueC, \"^4 = \", cExp, sep=\"\")\n",
        "print(valueD, \"^-5 = \", dExp, sep=\"\")\n",
        "print(valueE, \"^0.125 = \", eExp, sep=\"\")"
      ],
      "metadata": {
        "colab": {
          "base_uri": "https://localhost:8080/"
        },
        "id": "v-u7I2Rw6w8h",
        "outputId": "3b309445-b5b0-4432-d7ab-f8c4a83622a5"
      },
      "execution_count": null,
      "outputs": [
        {
          "output_type": "stream",
          "name": "stdout",
          "text": [
            "3^2 = 9\n",
            "144^3 = 2985984\n",
            "-987^4 = 949005240561\n",
            "25^-5 = 1.024e-07\n",
            "-0.25^0.125 = (0.7768869870150186+0.3217971264527913j)\n"
          ]
        }
      ]
    },
    {
      "cell_type": "code",
      "source": [
        "import math\n",
        "\n",
        "# Some numerical values\n",
        "valueA = 3\n",
        "valueB = 144\n",
        "valueC = -987\n",
        "valueD = 25\n",
        "valueE = -0.25\n",
        "\n",
        "# Raise each variable to a certain power\n",
        "aExp = math.pow(valueA, 2)\n",
        "bExp = math.pow(valueB, 3)\n",
        "cExp = math.pow(valueC, 4)\n",
        "dExp = math.pow(valueD, -5)\n",
        "eExp = math.pow(valueE, -45)\n",
        "\n",
        "# Output the results\n",
        "print(valueA, \"^2 = \", aExp, sep=\"\")\n",
        "print(valueB, \"^3 = \", bExp, sep=\"\")\n",
        "print(valueC, \"^4 = \", cExp, sep=\"\")\n",
        "print(valueD, \"^-5 = \", dExp, sep=\"\")\n",
        "print(valueE, \"^-45 = \", eExp, sep=\"\")"
      ],
      "metadata": {
        "colab": {
          "base_uri": "https://localhost:8080/"
        },
        "id": "4J9V2HHg7Hyv",
        "outputId": "511b6cd9-28df-47cb-d1fe-12b7b9c6f1db"
      },
      "execution_count": null,
      "outputs": [
        {
          "output_type": "stream",
          "name": "stdout",
          "text": [
            "3^2 = 9.0\n",
            "144^3 = 2985984.0\n",
            "-987^4 = 949005240561.0\n",
            "25^-5 = 1.024e-07\n",
            "-0.25^-45 = -1.2379400392853803e+27\n"
          ]
        }
      ]
    },
    {
      "cell_type": "markdown",
      "source": [],
      "metadata": {
        "id": "GHbecyeq83GQ"
      }
    },
    {
      "cell_type": "code",
      "source": [
        "# Define country and city variables\n",
        "country = \"United States\"\n",
        "city = \"New York City\"\n",
        "\n",
        "# True or True returns True\n",
        "print((15/3 < 2+4) or (0 >= 6-7))  # True or True = True\n",
        "\n",
        "# False or True returns True\n",
        "print(country == \"New York City\" or city == \"New York City\")  # False or True = True\n",
        "\n",
        "# True or False returns True\n",
        "print(16 <= 4**2 or 9**(0.5) != 3)  # True or False = True\n",
        "\n",
        "# False or False returns False\n",
        "print(\"B_name\" > \"C_name\" or \"B_name\" < \"A_name\") # False or False = False"
      ],
      "metadata": {
        "colab": {
          "base_uri": "https://localhost:8080/"
        },
        "id": "YWXrkvmyBOpN",
        "outputId": "c2f21f4e-1bf4-4fbd-8988-8a3dbea3b746"
      },
      "execution_count": null,
      "outputs": [
        {
          "output_type": "stream",
          "name": "stdout",
          "text": [
            "True\n",
            "True\n",
            "True\n",
            "False\n"
          ]
        }
      ]
    },
    {
      "cell_type": "code",
      "source": [
        "# Test Example 1:\n",
        "\n",
        "x = 2*3 > 6\n",
        "print(\"The value of x is:\")\n",
        "print(x)\n",
        "\n",
        "print(\"\")  # Prints a blank line\n",
        "\n",
        "print(\"The inverse value of x is:\")\n",
        "print(not x)"
      ],
      "metadata": {
        "colab": {
          "base_uri": "https://localhost:8080/"
        },
        "id": "SOs3ll-ZBpz-",
        "outputId": "a889d325-edb7-4bd0-ad4c-ff548dd09278"
      },
      "execution_count": null,
      "outputs": [
        {
          "output_type": "stream",
          "name": "stdout",
          "text": [
            "The value of x is:\n",
            "False\n",
            "\n",
            "The inverse value of x is:\n",
            "True\n"
          ]
        }
      ]
    },
    {
      "cell_type": "code",
      "source": [
        "# What happens when you negate a False statement?\n",
        "# Click Run when you are ready to check your answer.\n",
        "\n",
        "\n",
        "today = \"Monday\"\n",
        "print(not today == \"Tuesday\")\n",
        "\n",
        "\n",
        "# The \"today\" variable states today is Monday. This makes the comparison\n",
        "# \"today == Tuesday\" False. The logical operator \"not\" inverts the False\n",
        "# result to become True. In other words, this expression asks if it is\n",
        "# false that today is not Tuesday. More succinctly, \"not False\" means\n",
        "# True.\""
      ],
      "metadata": {
        "colab": {
          "base_uri": "https://localhost:8080/"
        },
        "id": "CLzGHw52B6a6",
        "outputId": "632e0505-c8ac-4336-f7cb-d9de710d4d0a"
      },
      "execution_count": null,
      "outputs": [
        {
          "output_type": "stream",
          "name": "stdout",
          "text": [
            "True\n"
          ]
        }
      ]
    },
    {
      "cell_type": "code",
      "source": [
        "def hint_username(username):\n",
        "    if len(username) < 3:\n",
        "        print(\"Invalid username. Must be at least 3 characters long\")\n",
        "    else:\n",
        "        print(\"Valid username\")\n",
        "#This code will not have an output."
      ],
      "metadata": {
        "id": "2RSjU3bkEv5j"
      },
      "execution_count": null,
      "outputs": []
    },
    {
      "cell_type": "markdown",
      "source": [
        "This snippet of code defines a function called hint_username. The if len(username) < 3: statement checks the length of the string username. If the length of the string is less than 3 characters, the code inside the if statement is executed. The print(\"Invalid username. Must be at least 3 characters long\") statement prints the message \"Invalid username. Must be at least 3 characters long\". The else: statement is executed if the length of the string username is not less than 3 characters. In this case, the code inside the else statement is executed, which is the print(\"Valid username\") statement"
      ],
      "metadata": {
        "id": "fpIrfIFJEy0b"
      }
    },
    {
      "cell_type": "code",
      "source": [
        "def is_even(number):\n",
        "    if number % 2 == 0:\n",
        "        return True\n",
        "    return False\n",
        "#This code has no ouput"
      ],
      "metadata": {
        "id": "MTEAPH-2E_NM"
      },
      "execution_count": null,
      "outputs": []
    },
    {
      "cell_type": "markdown",
      "source": [
        "This code snippet defines a function called is_even. It checks whether a number is even. if number % 2 == 0: is the part of the code that checks if the number is even. If the number is odd, it will return false. The code does not have any output currently because it has not been provided with a number to check."
      ],
      "metadata": {
        "id": "BhzTiG1IFNSG"
      }
    },
    {
      "cell_type": "markdown",
      "source": [
        "else Statements and the Modulo Operator\n",
        "\n",
        "We just covered the if statement, which executes code if an evaluation is true and skips the code if it’s false. But what if we wanted the code to do something different if the evaluation is false? We can do this using the else statement. The else statement follows an if block, and is composed of the keyword else followed by a colon. The body of the else statement is indented to the right, and will be executed if the above if statement doesn’t execute.\n",
        "\n",
        "We also touched on the modulo operator, which is represented by the percent sign: %. This operator performs integer division, but only returns the remainder of this division operation. If we’re dividing 5 by 2, the quotient is 2, and the remainder is 1. Two 2s can go into 5, leaving 1 left over. So 5%2 would return 1. Dividing 10 by 5 would give us a quotient of 2 with no remainder, since 5 can go into 10 twice with nothing left over. In this case, 10%5 would return 0, as there is no remainder."
      ],
      "metadata": {
        "id": "2Oa2wSqLOvDw"
      }
    },
    {
      "cell_type": "code",
      "source": [
        "def hint_username(username):\n",
        "    if len(username) < 3:\n",
        "        print(\"Invalid username. Must be at least 3 characters long\")\n",
        "    else:\n",
        "        if len(username) > 15:\n",
        "            print(\"Invalid username. Must be at most 15 characters long\")\n",
        "        else:\n",
        "            print(\"Valid username\")"
      ],
      "metadata": {
        "id": "rdd-JiKhO1VQ"
      },
      "execution_count": 2,
      "outputs": []
    },
    {
      "cell_type": "markdown",
      "source": [
        "This snippet of code defines a function called hint_username. The if len(username) < 3: statement checks the length of the string username. If the length of the string is less than 3 characters, the code inside the if statement is executed. The print(\"Invalid username. Must be at least 3 characters long\") statement prints the message \"Invalid username. Must be at least 3 characters long\". The else: statement is executed if the length of the string username is greater than 15 characters. In this case, the code inside the else statement is executed, which is the print(\"Invalid username. Must be at most 15 characters long\") statement. If the username is the correct length, between 3 and 15 characters long,  print(\"Valid username\") is executed."
      ],
      "metadata": {
        "id": "pjpFjTog4wxH"
      }
    },
    {
      "cell_type": "code",
      "source": [
        "def hint_username(username):\n",
        "    if len(username) < 3:\n",
        "        print(\"Invalid username. Must be at least 3 characters long\")\n",
        "    elif len(username) > 15:\n",
        "        print(\"Invalid username. Must be at most 15 characters long\")\n",
        "    else:\n",
        "        print(\"Valid username\")"
      ],
      "metadata": {
        "id": "xT3nneDI4z53"
      },
      "execution_count": 3,
      "outputs": []
    },
    {
      "cell_type": "markdown",
      "source": [
        "This snippet of code works the same way as the code block we just looked at. The difference is that this code uses the  elif statement.  elif statements must be used along with an if statement. The elif statement will only be checked if the condition of the if statement was not true.  "
      ],
      "metadata": {
        "id": "LjBEUFRf49q5"
      }
    },
    {
      "cell_type": "code",
      "source": [],
      "metadata": {
        "id": "DKXT-CDP4-_k"
      },
      "execution_count": null,
      "outputs": []
    }
  ]
}